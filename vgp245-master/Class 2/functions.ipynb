{
 "cells": [
  {
   "cell_type": "markdown",
   "metadata": {
    "collapsed": true
   },
   "source": [
    "# VGP 245\n",
    "## Class 2 - Functions\n",
    "\n",
    "### Introduction\n",
    "\n",
    "| def | name_of_function | : |\n",
    "|-----|------------------|---|\n",
    "| 0   | Hello World!     | : |\n",
    "| 1   | World Hello!     | : |\n",
    "|-----|------------------| : |\n"
   ]
  },
  {
   "cell_type": "code",
   "execution_count": 5,
   "metadata": {},
   "outputs": [
    {
     "name": "stdout",
     "output_type": "stream",
     "text": [
      "5\n",
      "<class 'int'>\n",
      "Random Stuff\n",
      "<class 'NoneType'>\n",
      "<class 'function'>\n",
      "78.5\n",
      "78.53975\n",
      "78.53030302500001\n",
      "45\n"
     ]
    }
   ],
   "source": [
    "#\n",
    "#Example file for working with functions\n",
    "#\n",
    "\n",
    "#define a basic function\n",
    "def sum(left,right):\n",
    "    return left + right\n",
    "\n",
    "def print_stuff():\n",
    "    print(\"Random Stuff\")\n",
    "    \n",
    "total = sum(1,4)\n",
    "print(total)\n",
    "\n",
    "print(type(total))\n",
    "\n",
    "what = print_stuff()\n",
    "print(type(what))\n",
    "print(type(print_stuff))\n",
    "\n",
    "#function that takes arguments\n",
    "def area_of_circle(radius, pi = 3.14159):\n",
    "    return radius*radius*pi\n",
    "\n",
    "#function that returns a value\n",
    "def area_of_circle(radius, pi = 3.14159):\n",
    "    return radius*radius*pi\n",
    "\n",
    "#function with default value for an argument\n",
    "print(area_of_circle(5, 3.14))\n",
    "print(area_of_circle(5))\n",
    "print(area_of_circle(pi = 3.141212121, radius = 5))\n",
    "\n",
    "#function with variable number of arguments\n",
    "\n",
    "def multi_add(*args):\n",
    "    result = 0\n",
    "    for x in args:\n",
    "        result = result + x\n",
    "    return result\n",
    "print(multi_add(1,2,3,4,5,6,7,8,9))"
   ]
  },
  {
   "cell_type": "code",
   "execution_count": null,
   "metadata": {},
   "outputs": [],
   "source": []
  }
 ],
 "metadata": {
  "kernelspec": {
   "display_name": "Python 3",
   "language": "python",
   "name": "python3"
  },
  "language_info": {
   "codemirror_mode": {
    "name": "ipython",
    "version": 3
   },
   "file_extension": ".py",
   "mimetype": "text/x-python",
   "name": "python",
   "nbconvert_exporter": "python",
   "pygments_lexer": "ipython3",
   "version": "3.7.0"
  }
 },
 "nbformat": 4,
 "nbformat_minor": 1
}
