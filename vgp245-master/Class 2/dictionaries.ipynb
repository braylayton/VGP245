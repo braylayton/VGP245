{
 "cells": [
  {
   "cell_type": "code",
   "execution_count": null,
   "metadata": {},
   "outputs": [],
   "source": [
    "# VGP 245 \n",
    "## Class 2 - Collections & iteration\n",
    "\n",
    "collections (list, dict, set, tuple) for loops,\n",
    "\n",
    "## Manipulating lists\n",
    "\n",
    "List variables, which can contain multiple items of data, are widely used in Python programming and have several “methods” that can be “dot-suffixed” to the list name for manipulation:\n",
    "\n",
    "List Method - Description:\n",
    "+ list.append(x) -  Adds item x to the end of the list\n",
    "+ list.extend(L) -   Adds all items in list L to the end of the list\n",
    "+ list.insert(i,x) -  Inserts item x at index position i\n",
    "+ list.remove(x) -  Removes first item x from the list\n",
    "+ list.pop(i) -   Removes item at index position I and returns it\n",
    "+ list.index(x) -   Returns the index position in the list of the first item x\n",
    "+ list.count(x) -   Returns the number of times x appears in the list\n",
    "+ list.sort() -   Sort all list items, in place\n",
    "+ list.reverse() -   Reverse all list items, in place\n",
    "\n",
    "\n",
    "Python also have a useful len(L) function that returns the length of the list L as the total number of elements it contains.  Like the index() and count() methods, the returned value is numeric so cannot be directly concatenated to a text string for output.\n",
    "\n",
    "Individual list items can be delete by specifying their index number to the Python del(i) function.\n",
    "\n",
    "\n"
   ]
  },
  {
   "cell_type": "code",
   "execution_count": null,
   "metadata": {},
   "outputs": [],
   "source": []
  },
  {
   "cell_type": "markdown",
   "metadata": {},
   "source": [
    "While loops"
   ]
  },
  {
   "cell_type": "markdown",
   "metadata": {},
   "source": [
    "# Restricting lists\n",
    "## Tuple\n",
    "The values in a regular list can be changed as the program proceeds (they are “mutable”), but a list can be created with fixed “immutable” values that cannot be changed by the program.\n",
    "A restrictive immutable Python list is known as a “tuple” and is created by assigning values as a comma-separated list between parentheses in a process known as “tuple packing”:\n",
    "\n",
    "colors-tuple = ( ‘red’, ‘green’, ‘red’, ‘blue’, ‘red’ )\n",
    "\n",
    "An individual tuple element can be referenced using the tuple name followed by square brackets containing that element’s index number.  Usefully, all values stored inside a tuple can be assigned to individual variables in a process known as “sequence unpacking”:\n",
    "\n",
    "a, b, c, d, e = colors-tuple\n",
    "##Set\n",
    "\n",
    "The values in a regular list can be repeated in its elements, as in the tuple above, but a list of unique values can be created where duplication is not allowed.  A restrictive Python list of unique values is known as a “set” and is created by assigning values as a comma-separated list between curly brackets (braces):\n",
    "\n",
    "phonetic-set = { ‘Alpha’, ‘Bravo’, ‘Charlie’ }\n",
    "\n",
    "Individual set elements cannot be referenced using the set name followed by square brackets containing an index number, but instead sets have methods that can be dot-suffixed to the set name for manipulation and comparison:\n"
   ]
  },
  {
   "cell_type": "code",
   "execution_count": null,
   "metadata": {},
   "outputs": [],
   "source": [
    "#\n",
    "# Example file for working with loops\n",
    "#\n",
    "\n",
    "def main():\n",
    "  x = 0\n",
    "\n",
    "  # define a while loop\n",
    "\n",
    "\n",
    "  # define a for loop\n",
    "\n",
    "\n",
    "  # use a for loop over a collection\n",
    "    \n",
    " \n",
    "  # use the break and continue statements\n",
    "\n",
    "\n",
    "  #using the enumerate() function to get index \n",
    "\n",
    "\n",
    "if __name__ == \"__main__\":\n",
    "  main()\n"
   ]
  },
  {
   "cell_type": "markdown",
   "metadata": {},
   "source": [
    "While loops"
   ]
  },
  {
   "cell_type": "code",
   "execution_count": null,
   "metadata": {},
   "outputs": [],
   "source": [
    "# simple fibonacci series\n",
    "# the sum of two elements defines the next set\n",
    "\n",
    "a, b = 0, 1\n",
    "while b < 1000:\n",
    "    print(b, end = ' ', flush = True)\n",
    "    a, b = b, a + b\n",
    "\n",
    "print() # line ending\n"
   ]
  },
  {
   "cell_type": "markdown",
   "metadata": {},
   "source": [
    "Example of while loop"
   ]
  },
  {
   "cell_type": "code",
   "execution_count": null,
   "metadata": {},
   "outputs": [],
   "source": [
    "words = ['one', 'two', 'three', 'four', 'five']\n",
    "\n",
    "n = 0\n",
    "while(n < 5):\n",
    "    print(words[n])\n",
    "    n += 1\n"
   ]
  },
  {
   "cell_type": "code",
   "execution_count": 2,
   "metadata": {},
   "outputs": [],
   "source": [
    "bag = {'apple', 'apple', 'berries'}"
   ]
  },
  {
   "cell_type": "code",
   "execution_count": 3,
   "metadata": {},
   "outputs": [
    {
     "data": {
      "text/plain": [
       "{'apple', 'berries'}"
      ]
     },
     "execution_count": 3,
     "metadata": {},
     "output_type": "execute_result"
    }
   ],
   "source": [
    "bag"
   ]
  },
  {
   "cell_type": "code",
   "execution_count": 6,
   "metadata": {},
   "outputs": [],
   "source": [
    "bag.add('cherries')\n",
    "bag.add('durian')\n",
    "bag.add('pineapple')"
   ]
  },
  {
   "cell_type": "code",
   "execution_count": 7,
   "metadata": {},
   "outputs": [],
   "source": [
    "bag.add('apricot')"
   ]
  },
  {
   "cell_type": "code",
   "execution_count": 8,
   "metadata": {},
   "outputs": [
    {
     "data": {
      "text/plain": [
       "{'apple', 'apricot', 'berries', 'cherries', 'durian', 'pineapple'}"
      ]
     },
     "execution_count": 8,
     "metadata": {},
     "output_type": "execute_result"
    }
   ],
   "source": [
    "bag"
   ]
  },
  {
   "cell_type": "code",
   "execution_count": 9,
   "metadata": {},
   "outputs": [
    {
     "name": "stdout",
     "output_type": "stream",
     "text": [
      "{'cherries', 'apricot', 'apple', 'durian', 'berries', 'pineapple'}\n"
     ]
    }
   ],
   "source": [
    "print(bag)"
   ]
  },
  {
   "cell_type": "code",
   "execution_count": 10,
   "metadata": {},
   "outputs": [],
   "source": [
    "bag2 = {'apple', 'watermelon', 'honey dew', 'Mango', 'berries'}"
   ]
  },
  {
   "cell_type": "code",
   "execution_count": 11,
   "metadata": {},
   "outputs": [
    {
     "data": {
      "text/plain": [
       "{'Mango', 'apple', 'berries', 'honey dew', 'watermelon'}"
      ]
     },
     "execution_count": 11,
     "metadata": {},
     "output_type": "execute_result"
    }
   ],
   "source": [
    "bag2"
   ]
  },
  {
   "cell_type": "code",
   "execution_count": 12,
   "metadata": {},
   "outputs": [
    {
     "name": "stdout",
     "output_type": "stream",
     "text": [
      "{'Mango', 'apple', 'honey dew', 'berries', 'watermelon'}\n"
     ]
    }
   ],
   "source": [
    "print(bag2)"
   ]
  },
  {
   "cell_type": "code",
   "execution_count": 13,
   "metadata": {},
   "outputs": [
    {
     "data": {
      "text/plain": [
       "{'apple', 'berries'}"
      ]
     },
     "execution_count": 13,
     "metadata": {},
     "output_type": "execute_result"
    }
   ],
   "source": [
    "bag.intersection(bag2)"
   ]
  },
  {
   "cell_type": "code",
   "execution_count": 14,
   "metadata": {},
   "outputs": [
    {
     "data": {
      "text/plain": [
       "{'apple', 'berries'}"
      ]
     },
     "execution_count": 14,
     "metadata": {},
     "output_type": "execute_result"
    }
   ],
   "source": [
    "bag2.intersection(bag)"
   ]
  },
  {
   "cell_type": "code",
   "execution_count": 17,
   "metadata": {},
   "outputs": [
    {
     "data": {
      "text/plain": [
       "{'Mango', 'honey dew', 'watermelon'}"
      ]
     },
     "execution_count": 17,
     "metadata": {},
     "output_type": "execute_result"
    }
   ],
   "source": [
    "bag2.difference(bag)"
   ]
  },
  {
   "cell_type": "code",
   "execution_count": 16,
   "metadata": {},
   "outputs": [
    {
     "data": {
      "text/plain": [
       "{'apricot', 'cherries', 'durian', 'pineapple'}"
      ]
     },
     "execution_count": 16,
     "metadata": {},
     "output_type": "execute_result"
    }
   ],
   "source": [
    "bag.difference(bag2)"
   ]
  },
  {
   "cell_type": "code",
   "execution_count": 27,
   "metadata": {},
   "outputs": [
    {
     "name": "stdout",
     "output_type": "stream",
     "text": [
      "0 cherries\n",
      "1 apricot\n",
      "2 apple\n",
      "3 durian\n",
      "4 berries\n",
      "5 pineapple\n"
     ]
    }
   ],
   "source": [
    "for i, f in enumerate(bag) :\n",
    "    print(i, f)"
   ]
  },
  {
   "cell_type": "markdown",
   "metadata": {},
   "source": [
    "The \"In\" keyword is like a bool"
   ]
  },
  {
   "cell_type": "code",
   "execution_count": 28,
   "metadata": {},
   "outputs": [
    {
     "data": {
      "text/plain": [
       "False"
      ]
     },
     "execution_count": 28,
     "metadata": {},
     "output_type": "execute_result"
    }
   ],
   "source": [
    "'Mango' in bag"
   ]
  },
  {
   "cell_type": "code",
   "execution_count": 29,
   "metadata": {},
   "outputs": [
    {
     "data": {
      "text/plain": [
       "True"
      ]
     },
     "execution_count": 29,
     "metadata": {},
     "output_type": "execute_result"
    }
   ],
   "source": [
    "'Mango' in bag2"
   ]
  },
  {
   "cell_type": "code",
   "execution_count": 45,
   "metadata": {},
   "outputs": [
    {
     "name": "stdout",
     "output_type": "stream",
     "text": [
      "10\n",
      "9\n",
      "8\n",
      "7\n",
      "6\n",
      "5\n",
      "4\n",
      "3\n",
      "2\n",
      "1\n",
      "--------------------------------------------------\n",
      "0\n",
      "1\n",
      "2\n",
      "3\n",
      "4\n",
      "5\n",
      "6\n",
      "7\n",
      "8\n",
      "9\n",
      "--------------------------------------------------\n",
      "a\n",
      "b\n",
      "c\n",
      "d\n",
      "e\n",
      "--------------------------------------------------\n",
      "0\n",
      "1\n",
      "2\n",
      "3\n",
      "4\n",
      "-------------------------\n",
      "0\n",
      "1\n",
      "2\n",
      "3\n",
      "4\n",
      "6\n",
      "7\n",
      "8\n",
      "9\n",
      "--------------------------------------------------\n",
      "0 cherries\n",
      "1 apricot\n",
      "2 apple\n",
      "3 durian\n",
      "4 berries\n",
      "5 pineapple\n",
      "--------------------------------------------------\n"
     ]
    }
   ],
   "source": [
    "#\n",
    "# Example file for working with loops\n",
    "#\n",
    "\n",
    "# define a while loop\n",
    "count = 10\n",
    "while count > 0:\n",
    "    print(count)\n",
    "    count-= 1\n",
    "    \n",
    "print('-'* 50)\n",
    "# define a for loop\n",
    "for i in range(0,10):\n",
    "    print(i)\n",
    "    \n",
    "print('-'* 50)\n",
    "# use a for loop over a collection\n",
    "bag3 = ['a','b','c','d','e']\n",
    "for item in bag3:\n",
    "    print(item)\n",
    "    \n",
    "print('-'* 50)\n",
    "# use the break and continue statements\n",
    "for i in range(0,10):\n",
    "    if i == 5:\n",
    "        break\n",
    "    print(i)\n",
    "    \n",
    "print('-'* 25)\n",
    "\n",
    "for i in range(0,10):\n",
    "    if i == 5:\n",
    "        continue\n",
    "    print(i)\n",
    "    \n",
    "print('-'* 50)\n",
    "#using the enumerate() function to get index \n",
    "\n",
    "for i, f in enumerate(bag) :\n",
    "    print(i, f)\n",
    "print('-'* 50)\n"
   ]
  },
  {
   "cell_type": "code",
   "execution_count": null,
   "metadata": {},
   "outputs": [],
   "source": []
  }
 ],
 "metadata": {
  "kernelspec": {
   "display_name": "Python 3",
   "language": "python",
   "name": "python3"
  },
  "language_info": {
   "codemirror_mode": {
    "name": "ipython",
    "version": 3
   },
   "file_extension": ".py",
   "mimetype": "text/x-python",
   "name": "python",
   "nbconvert_exporter": "python",
   "pygments_lexer": "ipython3",
   "version": "3.7.0"
  }
 },
 "nbformat": 4,
 "nbformat_minor": 1
}
