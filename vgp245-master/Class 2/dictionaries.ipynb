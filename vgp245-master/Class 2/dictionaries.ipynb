{
 "cells": [
  {
   "cell_type": "markdown",
   "metadata": {
    "collapsed": true
   },
   "source": [
    "# VGP 245 \n",
    "## Class 2 - Collections & iteration\n",
    "\n",
    "collections (list, dict, set, tuple) for loops,\n",
    "\n",
    "## Manipulating lists\n",
    "\n",
    "List variables, which can contain multiple items of data, are widely used in Python programming and have several “methods” that can be “dot-suffixed” to the list name for manipulation:\n",
    "\n",
    "List Method - Description:\n",
    "+ list.append(x) -  Adds item x to the end of the list\n",
    "+ list.extend(L) -   Adds all items in list L to the end of the list\n",
    "+ list.insert(i,x) -  Inserts item x at index position i\n",
    "+ list.remove(x) -  Removes first item x from the list\n",
    "+ list.pop(i) -   Removes item at index position I and returns it\n",
    "+ list.index(x) -   Returns the index position in the list of the first item x\n",
    "+ list.count(x) -   Returns the number of times x appears in the list\n",
    "+ list.sort() -   Sort all list items, in place\n",
    "+ list.reverse() -   Reverse all list items, in place\n",
    "\n",
    "\n",
    "Python also have a useful len(L) function that returns the length of the list L as the total number of elements it contains.  Like the index() and count() methods, the returned value is numeric so cannot be directly concatenated to a text string for output.\n",
    "\n",
    "Individual list items can be delete by specifying their index number to the Python del(i) function.\n",
    "\n",
    "\n"
   ]
  },
  {
   "cell_type": "markdown",
   "metadata": {},
   "source": [
    "While loops"
   ]
  },
  {
   "cell_type": "markdown",
   "metadata": {},
   "source": [
    "# Restricting lists\n",
    "## Tuple\n",
    "The values in a regular list can be changed as the program proceeds (they are “mutable”), but a list can be created with fixed “immutable” values that cannot be changed by the program.\n",
    "A restrictive immutable Python list is known as a “tuple” and is created by assigning values as a comma-separated list between parentheses in a process known as “tuple packing”:\n",
    "\n",
    "colors-tuple = ( ‘red’, ‘green’, ‘red’, ‘blue’, ‘red’ )\n",
    "\n",
    "An individual tuple element can be referenced using the tuple name followed by square brackets containing that element’s index number.  Usefully, all values stored inside a tuple can be assigned to individual variables in a process known as “sequence unpacking”:\n",
    "\n",
    "a, b, c, d, e = colors-tuple\n",
    "##Set\n",
    "\n",
    "The values in a regular list can be repeated in its elements, as in the tuple above, but a list of unique values can be created where duplication is not allowed.  A restrictive Python list of unique values is known as a “set” and is created by assigning values as a comma-separated list between curly brackets (braces):\n",
    "\n",
    "phonetic-set = { ‘Alpha’, ‘Bravo’, ‘Charlie’ }\n",
    "\n",
    "Individual set elements cannot be referenced using the set name followed by square brackets containing an index number, but instead sets have methods that can be dot-suffixed to the set name for manipulation and comparison:\n"
   ]
  },
  {
   "cell_type": "code",
   "execution_count": null,
   "metadata": {},
   "outputs": [],
   "source": [
    "#\n",
    "# Example file for working with loops\n",
    "#\n",
    "\n",
    "def main():\n",
    "  x = 0\n",
    "\n",
    "  # define a while loop\n",
    "\n",
    "\n",
    "  # define a for loop\n",
    "\n",
    "\n",
    "  # use a for loop over a collection\n",
    "    \n",
    " \n",
    "  # use the break and continue statements\n",
    "\n",
    "\n",
    "  #using the enumerate() function to get index \n",
    "\n",
    "\n",
    "if __name__ == \"__main__\":\n",
    "  main()\n"
   ]
  },
  {
   "cell_type": "markdown",
   "metadata": {},
   "source": [
    "While loops"
   ]
  },
  {
   "cell_type": "code",
   "execution_count": null,
   "metadata": {},
   "outputs": [],
   "source": [
    "# simple fibonacci series\n",
    "# the sum of two elements defines the next set\n",
    "\n",
    "a, b = 0, 1\n",
    "while b < 1000:\n",
    "    print(b, end = ' ', flush = True)\n",
    "    a, b = b, a + b\n",
    "\n",
    "print() # line ending\n"
   ]
  },
  {
   "cell_type": "markdown",
   "metadata": {},
   "source": [
    "Example of while loop"
   ]
  },
  {
   "cell_type": "code",
   "execution_count": null,
   "metadata": {},
   "outputs": [],
   "source": [
    "words = ['one', 'two', 'three', 'four', 'five']\n",
    "\n",
    "n = 0\n",
    "while(n < 5):\n",
    "    print(words[n])\n",
    "    n += 1\n"
   ]
  }
 ],
 "metadata": {
  "kernelspec": {
   "display_name": "Python 2",
   "language": "python",
   "name": "python2"
  },
  "language_info": {
   "codemirror_mode": {
    "name": "ipython",
    "version": 2
   },
   "file_extension": ".py",
   "mimetype": "text/x-python",
   "name": "python",
   "nbconvert_exporter": "python",
   "pygments_lexer": "ipython2",
   "version": "2.7.6"
  }
 },
 "nbformat": 4,
 "nbformat_minor": 0
}
