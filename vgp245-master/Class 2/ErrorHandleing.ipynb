{
 "cells": [
  {
   "cell_type": "markdown",
   "metadata": {},
   "source": [
    "# VGP 245\n",
    "# Errors\n",
    "In python programming there are three types of error that can occur. It’s useful to recognize the different error types so they can be corrected more easily:\n",
    "\n",
    "* Syntax Error – occurs when the interpreter encounters code that does not conform to the Python language rules. For examples, a missing quote mark around a string. The interpreter halts and reports the error without executing the program.\n",
    "* Runtime Error – occurs during execution of the program, at the time when the program runs. For example. When a variable name is later mis-typed so that variable cannot be recognized. The interpreter runs the program but halts at the error and reports the nature of the error as an “Exception”.\n",
    "* Semantic Error – occurs when the program performs unexpectedly. For example, when order precedence has not been specified in an expression. The interpreter runs the program and does not report an error.\n",
    "\n",
    "Correcting syntax and runtime errors is straightforward, as the interpreter reports where the error occurred or the nature of the error type, but semantic errors require code examination"
   ]
  },
  {
   "cell_type": "code",
   "execution_count": 3,
   "metadata": {},
   "outputs": [
    {
     "ename": "ValueError",
     "evalue": "This is a bad number that you shouldn't use",
     "output_type": "error",
     "traceback": [
      "\u001b[1;31m---------------------------------------------------------------------------\u001b[0m",
      "\u001b[1;31mValueError\u001b[0m                                Traceback (most recent call last)",
      "\u001b[1;32m<ipython-input-3-de0243c93426>\u001b[0m in \u001b[0;36m<module>\u001b[1;34m()\u001b[0m\n\u001b[0;32m      3\u001b[0m     \u001b[1;31m#raise Exception(\"you should not get into this code\")\u001b[0m\u001b[1;33m\u001b[0m\u001b[1;33m\u001b[0m\u001b[0m\n\u001b[0;32m      4\u001b[0m \u001b[1;33m\u001b[0m\u001b[0m\n\u001b[1;32m----> 5\u001b[1;33m \u001b[0mthis_is_broken\u001b[0m\u001b[1;33m(\u001b[0m\u001b[1;33m)\u001b[0m\u001b[1;33m\u001b[0m\u001b[0m\n\u001b[0m",
      "\u001b[1;32m<ipython-input-3-de0243c93426>\u001b[0m in \u001b[0;36mthis_is_broken\u001b[1;34m()\u001b[0m\n\u001b[0;32m      1\u001b[0m \u001b[1;32mdef\u001b[0m \u001b[0mthis_is_broken\u001b[0m\u001b[1;33m(\u001b[0m\u001b[1;33m)\u001b[0m\u001b[1;33m:\u001b[0m\u001b[1;33m\u001b[0m\u001b[0m\n\u001b[1;32m----> 2\u001b[1;33m     \u001b[1;32mraise\u001b[0m \u001b[0mValueError\u001b[0m\u001b[1;33m(\u001b[0m\u001b[1;34m\"This is a bad number that you shouldn't use\"\u001b[0m\u001b[1;33m)\u001b[0m\u001b[1;33m\u001b[0m\u001b[0m\n\u001b[0m\u001b[0;32m      3\u001b[0m     \u001b[1;31m#raise Exception(\"you should not get into this code\")\u001b[0m\u001b[1;33m\u001b[0m\u001b[1;33m\u001b[0m\u001b[0m\n\u001b[0;32m      4\u001b[0m \u001b[1;33m\u001b[0m\u001b[0m\n\u001b[0;32m      5\u001b[0m \u001b[0mthis_is_broken\u001b[0m\u001b[1;33m(\u001b[0m\u001b[1;33m)\u001b[0m\u001b[1;33m\u001b[0m\u001b[0m\n",
      "\u001b[1;31mValueError\u001b[0m: This is a bad number that you shouldn't use"
     ]
    }
   ],
   "source": [
    "def this_is_broken():\n",
    "    raise ValueError(\"This is a bad number that you shouldn't use\")\n",
    "    #raise Exception(\"you should not get into this code\")\n",
    "try:\n",
    "    this_is_broken()\n",
    "except ValueError :\n",
    "    print(\"an error occured please deal with it\")\n",
    "    \n",
    "x = 0\n",
    "y = 1\n",
    "\n",
    "try: \n",
    "    y/x\n",
    "except Exception :\n",
    "    print(\"somthing went wrong, but I will continue\")\n",
    "finally:\n",
    "    print(\"finally!!\")\n",
    "\n",
    "print(\"Some other step to run\")"
   ]
  },
  {
   "cell_type": "markdown",
   "metadata": {},
   "source": [
    "Finally: is used for try catch \n",
    "Finalize: is used in c# to tell the garbage collector to clean up\n",
    "Final: Prevents overriding fuctionality - java"
   ]
  }
 ],
 "metadata": {
  "kernelspec": {
   "display_name": "Python 3",
   "language": "python",
   "name": "python3"
  },
  "language_info": {
   "codemirror_mode": {
    "name": "ipython",
    "version": 3
   },
   "file_extension": ".py",
   "mimetype": "text/x-python",
   "name": "python",
   "nbconvert_exporter": "python",
   "pygments_lexer": "ipython3",
   "version": "3.7.0"
  }
 },
 "nbformat": 4,
 "nbformat_minor": 2
}
