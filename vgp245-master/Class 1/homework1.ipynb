{
 "cells": [
  {
   "cell_type": "markdown",
   "metadata": {
    "collapsed": true
   },
   "source": [
    "# VGP 245 Assignment 1\n",
    "# Python Basics"
   ]
  },
  {
   "cell_type": "markdown",
   "metadata": {},
   "source": [
    "### Question 1 - Object Types and Data Structures\n",
    "\n",
    "Give briefly describe and give an example for each of the following types\n",
    "\n",
    "Number:\n",
    "\n",
    "Strings:\n",
    "\n",
    "Lists:\n",
    "\n",
    "Dictionaries:\n",
    "\n",
    "Tuples:"
   ]
  },
  {
   "cell_type": "markdown",
   "metadata": {},
   "source": [
    ""
   ]
  },
  {
   "cell_type": "markdown",
   "metadata": {},
   "source": [
    "### Question 2 - Numbers\n",
    "\n",
    "Write an equation that can calculate the total amount earned in a week if a person worked 4 hours a day, 5 days a week, and \n",
    "$25.20 per hour. "
   ]
  },
  {
   "cell_type": "markdown",
   "metadata": {},
   "source": [
    ""
   ]
  },
  {
   "cell_type": "markdown",
   "metadata": {},
   "source": [
    "### Question 3 - Numbers\n",
    "What is the result of the following?\n",
    "\n",
    "* 4 * (6 + 5)\n",
    "* 4 * 6 + 6\n",
    "* 4 + 6 * 5"
   ]
  },
  {
   "cell_type": "markdown",
   "metadata": {},
   "source": [
    ""
   ]
  },
  {
   "cell_type": "markdown",
   "metadata": {},
   "source": [
    "### Question 4 - Numbers\n",
    "\n",
    "Write an example of getting the square of 87 and the square root of 2304"
   ]
  },
  {
   "cell_type": "code",
   "execution_count": 14,
   "metadata": {},
   "outputs": [],
   "source": []
  },
  {
   "cell_type": "markdown",
   "metadata": {},
   "source": [
    "### Question 5 - Strings\n",
    "Given the following string 'Master Chef', output the sub string 'Chef' and then reverse it"
   ]
  },
  {
   "cell_type": "code",
   "execution_count": 4,
   "metadata": {},
   "outputs": [],
   "source": [
    "name = 'Master Chef'\n",
    "# output the second character of the string above\n",
    "\n",
    "# output Chef from above into a new variable and print it out\n",
    "\n",
    "# output the reverse of the variable above and print it out\n",
    "\n"
   ]
  },
  {
   "cell_type": "markdown",
   "metadata": {},
   "source": [
    "### Question 6 - List\n",
    "Build the list ['Billy', 'Jason', 'Tommy'] in 2 different ways\n"
   ]
  },
  {
   "cell_type": "code",
   "execution_count": 5,
   "metadata": {},
   "outputs": [],
   "source": [
    "# Method 1\n"
   ]
  },
  {
   "cell_type": "code",
   "execution_count": null,
   "metadata": {},
   "outputs": [],
   "source": [
    "# Method 2\n"
   ]
  },
  {
   "cell_type": "markdown",
   "metadata": {},
   "source": [
    "Add an 'Zack' and 'Kimberly' into the list above and remove 'Tommy'"
   ]
  },
  {
   "cell_type": "code",
   "execution_count": 10,
   "metadata": {},
   "outputs": [],
   "source": [
    "# Add Zack and Kimberly to the list you made in Question 6\n"
   ]
  },
  {
   "cell_type": "code",
   "execution_count": null,
   "metadata": {},
   "outputs": [],
   "source": [
    "\n",
    "# Remove Tommy from the list"
   ]
  },
  {
   "cell_type": "markdown",
   "metadata": {},
   "source": [
    "### Question 7 - List \n",
    "Sort the list below\n"
   ]
  },
  {
   "cell_type": "code",
   "execution_count": 11,
   "metadata": {},
   "outputs": [],
   "source": [
    "my_numbers = [41, 32, 5, 37, 27, 14, 24, 13, 6]\n",
    "# hint there's a built-in function for that"
   ]
  },
  {
   "cell_type": "markdown",
   "metadata": {},
   "source": [
    "### Question 8 - Dictionaries\n",
    "\n",
    "Using the dictionary below, find the value from a given key."
   ]
  },
  {
   "cell_type": "code",
   "execution_count": null,
   "metadata": {},
   "outputs": [],
   "source": [
    "rangers = { 'Jason': 'Red', 'Tommy': 'Green', 'Billy': 'Blue', 'Zack': 'Black'}\n",
    "# find out which color is Tommy from the dictionary above and print it out\n",
    "\n",
    "\n",
    "# Tommy became the 'White' ranger and is no longer the green ranger\n",
    "# Update the Tommy to reflect the changes and print it out\n",
    "\n",
    "\n",
    "# It turns out there are other rangers, put them together into a list of dictionaries\n",
    "zeo_ranger = {'Tommy': 'Red', 'Adam': 'Black', 'Rocky': 'Blue', 'Kat': 'Pink', 'Jason': 'Gold'}\n",
    "turbo_ranger = {'Tommy': 'Red', 'Adam': 'Green', 'Justin': 'Blue', 'Kat': 'Pink'}\n",
    "space_ranger = {'Andros': 'Red', 'Carlos': 'Black', 'TJ': 'Blue', 'Cassie': 'Pink'}\n",
    "\n",
    "all_the_rangers  = []\n",
    "\n",
    "\n",
    "# Find out the different how many rangers are there total\n",
    "# hint you will need a nested for loop\n"
   ]
  },
  {
   "cell_type": "markdown",
   "metadata": {},
   "source": [
    "### Quesiton 9 - Tuple\n",
    "What is the difference between a Tuple and a list?"
   ]
  },
  {
   "cell_type": "code",
   "execution_count": 7,
   "metadata": {},
   "outputs": [],
   "source": [
    "tuple_of_fruits = ('apple', 'berries', 'cherries')\n",
    "list_of_fruits = ['apple', 'berries', 'cherries']\n",
    "\n",
    "# list 2 things and show an example\n",
    "# 1.\n",
    "# 2."
   ]
  },
  {
   "cell_type": "markdown",
   "metadata": {},
   "source": [
    "### Question 10 Boolean\n",
    "Using the dictionary in question 8, do the following:\n"
   ]
  },
  {
   "cell_type": "code",
   "execution_count": 13,
   "metadata": {},
   "outputs": [],
   "source": [
    "# using the dictionary `rangers` check if the black ranger is 'Adam', and print the result\n",
    "\n",
    "# Check if the blue ranger is not Bobby\n",
    "\n",
    "# What does the 2.0 == 2 return?\n",
    "\n",
    "# What does 2 > 5 return?\n",
    "\n",
    "# What does 2 <= 1 return?\n",
    "\n",
    "\n",
    "\n"
   ]
  },
  {
   "cell_type": "markdown",
   "metadata": {},
   "source": [
    "That's it. You can complete this and add it into your GitHub repo, and send me a message on slack or submit it on omnivox.  See you in class."
   ]
  },
  {
   "cell_type": "code",
   "execution_count": null,
   "metadata": {},
   "outputs": [],
   "source": []
  }
 ],
 "metadata": {
  "kernelspec": {
   "display_name": "Python 2",
   "language": "python",
   "name": "python2"
  },
  "language_info": {
   "codemirror_mode": {
    "name": "ipython",
    "version": 2
   },
   "file_extension": ".py",
   "mimetype": "text/x-python",
   "name": "python",
   "nbconvert_exporter": "python",
   "pygments_lexer": "ipython2",
   "version": "2.7.6"
  }
 },
 "nbformat": 4,
 "nbformat_minor": 0
}
